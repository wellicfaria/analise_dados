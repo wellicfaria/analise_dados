{
  "nbformat": 4,
  "nbformat_minor": 0,
  "metadata": {
    "colab": {
      "name": "Execicio_Logistica.ipynb",
      "provenance": [],
      "authorship_tag": "ABX9TyOb3Ce/gzbOfwA9alPakjHL",
      "include_colab_link": true
    },
    "kernelspec": {
      "name": "python3",
      "display_name": "Python 3"
    },
    "language_info": {
      "name": "python"
    }
  },
  "cells": [
    {
      "cell_type": "markdown",
      "metadata": {
        "id": "view-in-github",
        "colab_type": "text"
      },
      "source": [
        "<a href=\"https://colab.research.google.com/github/wellicfaria/analise_dados/blob/main/Execicio_Logistica.ipynb\" target=\"_parent\"><img src=\"https://colab.research.google.com/assets/colab-badge.svg\" alt=\"Open In Colab\"/></a>"
      ]
    },
    {
      "cell_type": "markdown",
      "source": [
        "## Exercicio e Analise de Dados. \n",
        "\n",
        "Nome(s): \n",
        "\n",
        "- Wellington Faria\n",
        "- Thais Nabe\n",
        "\n",
        "------------------------------------------------------------------------------------------------------------------------------\n",
        "\n",
        "O Relatório deve apresentar as seguintes informações:\n",
        "\n",
        "Base de Dados Utilizada: Base Logistica.xlsx\n",
        "\n",
        "#### Identificar:\n",
        "\n",
        "- Identificar os problemas pelas Dimensão de QD (ou seja, dado um problema, qual a dimensão de QD que descreve o problema?);\n",
        "\n",
        "- exemplificar o problema para cada dimensão de QD identificada, usando os dados da base de dados;\n",
        "\n",
        "- indicar o percentual de dados que apresenta cada um dos problemas identificados; \n",
        "\n",
        "### Intervenções realizadas\n",
        "\n",
        "- Para cada problema/dimensão de QD, mostrar que tratamento foi aplicado aos dados;\n",
        "- Custo \n",
        "- Tente monetizar o trabalho que foi realizado (mostre como calculou o custo)."
      ],
      "metadata": {
        "id": "x7NMrjj72IzN"
      }
    },
    {
      "cell_type": "code",
      "source": [
        "!pip install pyspark"
      ],
      "metadata": {
        "colab": {
          "base_uri": "https://localhost:8080/"
        },
        "id": "8xW0sMqPVWy0",
        "outputId": "919a0ff3-a831-4983-f068-421903d71ff5"
      },
      "execution_count": null,
      "outputs": [
        {
          "output_type": "stream",
          "name": "stdout",
          "text": [
            "Requirement already satisfied: pyspark in /usr/local/lib/python3.7/dist-packages (3.2.1)\n",
            "Requirement already satisfied: py4j==0.10.9.3 in /usr/local/lib/python3.7/dist-packages (from pyspark) (0.10.9.3)\n"
          ]
        }
      ]
    },
    {
      "cell_type": "markdown",
      "source": [
        "# Dados a serem analinados\n",
        "\n",
        "Dados de logistica."
      ],
      "metadata": {
        "id": "5nEDRpWn2PPY"
      }
    },
    {
      "cell_type": "code",
      "execution_count": null,
      "metadata": {
        "id": "2oIF2Ym_TpNB"
      },
      "outputs": [],
      "source": [
        "import pandas as pd\n",
        "from pyspark.sql import SparkSession\n",
        "from pyspark.sql.functions import col,isnan, when, count, lit, datediff"
      ]
    },
    {
      "cell_type": "code",
      "source": [
        "spark = SparkSession.builder.appName(\"APP_LOGISTICA\").getOrCreate()\n",
        "\n",
        "pdf = pd.read_excel('/content/Base Logistica.xlsx', index_col=0)\n",
        "pdf.to_csv('/content/Base_Logistica.csv',index=False, header=True)\n",
        "df = spark.read.csv('/content/Base_Logistica.csv', header=True, inferSchema=True)\n",
        "df.show()\n",
        "total_registros = df.count()\n",
        "print(f'QUANTIDADE DE REGISTRO NA BASE: {total_registros}')"
      ],
      "metadata": {
        "colab": {
          "base_uri": "https://localhost:8080/"
        },
        "id": "9WP8BG2o0AD2",
        "outputId": "80069a2a-10b9-407b-92e7-af2bf4277eab"
      },
      "execution_count": null,
      "outputs": [
        {
          "output_type": "stream",
          "name": "stdout",
          "text": [
            "+--------------------+-----------------+-----------------+--------+--------------+---------------+-------------+-------------+\n",
            "|        Nome Cliente| Município Início|Município Destino|Total Km|Data do Pedido|Data da Entrega|Prazo Entrega|Tempo Entrega|\n",
            "+--------------------+-----------------+-----------------+--------+--------------+---------------+-------------+-------------+\n",
            "|      Caramuru Pie I|Rio Grande do Sul|           Santos|  1400.0|    2018-01-02|     2018-01-04|          3.0|          2.0|\n",
            "|              Indaia|   Belo Horizonte|   Rio De Janeiro|   450.0|    2018-01-04|     2018-01-10|          8.0|          6.0|\n",
            "|        Diamante Iii|           Santos|   Rio De Janeiro|   500.0|    2018-01-04|     2018-01-08|         10.0|          4.0|\n",
            "|        Diamante Iii|           Santos|          Vitória|  1100.0|    2018-01-04|     2018-01-14|          6.0|         10.0|\n",
            "|                null|   Belo Horizonte|           Santos|   500.0|    2018-01-04|     2018-01-14|          2.0|         10.0|\n",
            "|            Canuelas|        São Paulo|           Santos|   100.0|    2018-01-05|     2018-01-07|          3.0|          2.0|\n",
            "|                null|           Santos|           Santos|     4.0|    2018-01-05|     2018-01-10|          8.0|        300.0|\n",
            "|                null|   Rio De Janeiro|           Santos|   500.0|    2018-01-05|     2018-01-14|          6.0|          9.0|\n",
            "|       Libra Energia|           Santos|   Belo Horizonte|   500.0|    2018-01-05|     2018-01-11|          6.0|          6.0|\n",
            "|       Libra Energia|           Santos|          Vitória|  1100.0|    2018-01-05|     2018-01-15|          7.0|         10.0|\n",
            "|       Libra Energia|           Santos|           Santos|     1.0|    2018-01-05|     2018-01-13|          1.0|          8.0|\n",
            "|       Libra Energia|Rio Grande do Sul|          Vitória|  2000.0|    2018-01-05|     2018-01-07|          6.0|          2.0|\n",
            "|         Diamante Ii|          Vitória|   Belo Horizonte|   400.0|    2018-01-06|     2018-01-09|         10.0|          3.0|\n",
            "|              Indaia|          Niteroi|   Belo Horizonte|   450.0|    2018-01-06|     2018-01-12|          6.0|          6.0|\n",
            "|              Indaia|Rio Grand3 do Sul|          Niterói|  1600.0|    2018-01-06|     2018-01-11|          3.0|          5.0|\n",
            "|Elkem Carboderivados|Rio Grande do Sul|   Rio De Janeiro|  1800.0|    2018-01-06|     2018-01-09|          7.0|          3.0|\n",
            "|Elkem Carboderivados|   Rio De Janeiro|          Vitória|   500.0|    2018-01-06|     2018-01-08|          6.0|          2.0|\n",
            "|       Tempo Energia|   Rio De Janeiro|           Santos|   500.0|    2018-01-06|     2018-01-07|          3.0|          1.0|\n",
            "|             Tenneco|          Niterói|        São Paulo|   450.0|    2018-01-06|     2018-01-15|          5.0|          9.0|\n",
            "|       Tempo Energia|   Belo Horizonte|          Vitória|   400.0|    2018-01-06|     2018-01-07|         null|         null|\n",
            "+--------------------+-----------------+-----------------+--------+--------------+---------------+-------------+-------------+\n",
            "only showing top 20 rows\n",
            "\n",
            "QUANTIDADE DE REGISTRO NA BASE: 2725\n"
          ]
        }
      ]
    },
    {
      "cell_type": "markdown",
      "source": [
        "## Dimensão Completude (completeness)"
      ],
      "metadata": {
        "id": "6GBG4sDK2aPc"
      }
    },
    {
      "cell_type": "markdown",
      "source": [
        "### Análise (completeness): \n",
        "\n",
        "Identificamos problema de completude em:\n",
        "\n",
        "- **Nome Cliente**: 46 ocorrencias, 1.68% da base\n",
        "- **Total km**: 1 ocorrencia, 0.0038% da base\n",
        "- **Prazo Entrega**: 20 ocorrencias, 0,073% da base\n",
        "- **Tempo Entrega**: 26 ocorrencias, 0,95% da base"
      ],
      "metadata": {
        "id": "EctHuQePNVSN"
      }
    },
    {
      "cell_type": "markdown",
      "source": [
        "### Quantidade de Nulls: "
      ],
      "metadata": {
        "id": "ZDTEklwr3trG"
      }
    },
    {
      "cell_type": "code",
      "source": [
        "# Quantidade de Nulos\n",
        "df_null = df.select([count(when(isnan(c) | col(c).isNull(), c)).alias(c) for c in df.columns]\n",
        "   )\n",
        "\n",
        "df_null.show()"
      ],
      "metadata": {
        "colab": {
          "base_uri": "https://localhost:8080/"
        },
        "id": "3qSnX7Tu3B1z",
        "outputId": "1f7e1ac3-1ff8-48ce-edb6-dcc9df7a1d35"
      },
      "execution_count": null,
      "outputs": [
        {
          "output_type": "stream",
          "name": "stdout",
          "text": [
            "+------------+----------------+-----------------+--------+--------------+---------------+-------------+-------------+\n",
            "|Nome Cliente|Município Início|Município Destino|Total Km|Data do Pedido|Data da Entrega|Prazo Entrega|Tempo Entrega|\n",
            "+------------+----------------+-----------------+--------+--------------+---------------+-------------+-------------+\n",
            "|          46|               0|                0|       1|             0|              0|           20|           26|\n",
            "+------------+----------------+-----------------+--------+--------------+---------------+-------------+-------------+\n",
            "\n"
          ]
        }
      ]
    },
    {
      "cell_type": "markdown",
      "source": [
        "### Percentual de Nulls: "
      ],
      "metadata": {
        "id": "BmPr3UUt32fA"
      }
    },
    {
      "cell_type": "code",
      "source": [
        "# Porcentagem de Nulos \n",
        "df_null_percente = df_null.select([ (col(c)/lit(total_registros)*100).alias(c) for c in df.columns])\n",
        "df_null_percente.show()"
      ],
      "metadata": {
        "colab": {
          "base_uri": "https://localhost:8080/"
        },
        "id": "SxJ7WrM34Uto",
        "outputId": "c3796bcd-0099-42f4-e55e-1853ae4ceb2c"
      },
      "execution_count": null,
      "outputs": [
        {
          "output_type": "stream",
          "name": "stdout",
          "text": [
            "+------------------+----------------+-----------------+-------------------+--------------+---------------+------------------+------------------+\n",
            "|      Nome Cliente|Município Início|Município Destino|           Total Km|Data do Pedido|Data da Entrega|     Prazo Entrega|     Tempo Entrega|\n",
            "+------------------+----------------+-----------------+-------------------+--------------+---------------+------------------+------------------+\n",
            "|1.6880733944954127|             0.0|              0.0|0.03669724770642202|           0.0|            0.0|0.7339449541284404|0.9541284403669725|\n",
            "+------------------+----------------+-----------------+-------------------+--------------+---------------+------------------+------------------+\n",
            "\n"
          ]
        }
      ]
    },
    {
      "cell_type": "markdown",
      "source": [
        "### Invervensão Realizada (completeness)\n",
        "\n",
        "- **Tempo Entrega**:  Completamos os null de tempo de entrega com valor da subtração Data da Entrega e Data do Pedido.\n",
        "- **Prazo Entrega**: Para prazo de entrega, consideramos Prazo Entrega = Tempo Entrega, para completar os dados null. Sendo assim, consiremos que pedidos foram entrague no ultimo dia do prazo.\n",
        "- **Total Km**: Para completar os null do Total Km consideramosa media entre 'Município Início' e 'Município Destino', completando com essa media calculada\n",
        "- **Nome Cliente**: Nao foi possivel identificar o cliente, pois a analise, portanto colocamos nos valosres null a string \"Não Identificado\""
      ],
      "metadata": {
        "id": "C7FwqW4SDppp"
      }
    },
    {
      "cell_type": "markdown",
      "source": [
        "#### Tempo Entrega"
      ],
      "metadata": {
        "id": "_q5gUCHj3-DN"
      }
    },
    {
      "cell_type": "code",
      "source": [
        "# Analise Tempo Entrega:\n",
        "#  - Analisando os null, podemos calcular o o tempo de entrega pela subtração de Data da Entrega e Data do Pedido\n",
        "\n",
        "print('DATA FRAME COM TEMPO ENTREGA NULL')\n",
        "func_null = isnan(col('Tempo Entrega')) | (col('Tempo Entrega').isNull())\n",
        "df_tempo_entrega_null = df.filter(func_null)\n",
        "df_tempo_entrega_null.show(30)\n",
        "\n",
        "# TRATAMENTO\n",
        "df = df.withColumn('Tempo Entrega', \n",
        "                   when(func_null, datediff(col('Data da Entrega').cast('date'), col('Data do Pedido').cast('date'))).\\\n",
        "                   otherwise(col('Tempo Entrega'))\n",
        "                   )"
      ],
      "metadata": {
        "colab": {
          "base_uri": "https://localhost:8080/"
        },
        "id": "PBWhJ_wQDPss",
        "outputId": "d9fb1091-cb9b-4e24-982a-c20c065bdc4f"
      },
      "execution_count": null,
      "outputs": [
        {
          "output_type": "stream",
          "name": "stdout",
          "text": [
            "DATA FRAME COM TEMPO ENTREGA NULL\n",
            "+--------------------+-----------------+-----------------+--------+--------------+---------------+-------------+-------------+\n",
            "|        Nome Cliente| Município Início|Município Destino|Total Km|Data do Pedido|Data da Entrega|Prazo Entrega|Tempo Entrega|\n",
            "+--------------------+-----------------+-----------------+--------+--------------+---------------+-------------+-------------+\n",
            "|       Tempo Energia|   Belo Horizonte|          Vitória|   400.0|    2018-01-06|     2018-01-07|         null|         null|\n",
            "|         Yara Brasil|          Vitória|           Santos|  1100.0|    2018-01-11|     2018-01-17|         null|         null|\n",
            "|   Ind De Moveis Thb|          Vitória|Rio Grande do Sul|  2000.0|    2018-01-12|     2018-01-14|          4.0|         null|\n",
            "|         Terphane Ne|Rio Grande do Sul|   Belo Horizonte|  2000.0|    2018-01-16|     2018-01-23|         null|         null|\n",
            "|         Unimed Sjrp|           Santos|   Belo Horizonte|   500.0|    2018-01-18|     2018-01-25|          3.0|         null|\n",
            "|           Xavantina|Rio Grande do Sul|          Niterói|  1600.0|    2018-01-25|     2018-01-29|         null|         null|\n",
            "|         Agro Latina|           Santos|        São Paulo|   100.0|    2018-02-02|     2018-02-03|         null|         null|\n",
            "|              Indaia|   Belo Horizonte|           Santos|   500.0|    2018-02-02|     2018-02-06|         null|         null|\n",
            "|        Weg Amazonia|          Vitória|   Belo Horizonte|   400.0|    2018-02-10|     2018-02-15|          6.0|         null|\n",
            "|            Zaccaria|   Belo Horizonte|Rio Grande do Sul|  2000.0|    2018-02-22|     2018-03-02|          8.0|         null|\n",
            "|            Zaccaria|Rio Grande do Sul|        São Paulo|  1450.0|    2018-03-09|     2018-03-13|         null|         null|\n",
            "|Elkem Carboderivados|   Rio De Janeiro|        São Paulo|   450.0|    2018-03-13|     2018-03-20|          9.0|         null|\n",
            "|        Diamante Iii|   Belo Horizonte|          Vitória|   400.0|    2018-03-16|     2018-03-23|         null|         null|\n",
            "|   Ind De Moveis Thb|   Rio De Janeiro|          Vitória|   500.0|    2018-04-05|     2018-04-14|         null|         null|\n",
            "|        Resende Shop|        São Paulo|           Santos|   100.0|    2018-05-03|     2018-05-07|          1.0|         null|\n",
            "|         Tera Papeis|Rio Grande do Sul|          Vitória|  2000.0|    2018-07-31|     2018-08-09|         null|         null|\n",
            "|           Agropalma|           Santos|        São Paulo|   100.0|    2018-08-29|     2018-09-03|         null|         null|\n",
            "|       Rer Plasticos|          Niterói|Rio Grande do Sul|  1600.0|    2018-08-29|     2018-08-31|         null|         null|\n",
            "|  Bela Vista Tijolos|   Rio De Janeiro|           Santos|   500.0|    2018-10-02|     2018-10-03|          1.0|         null|\n",
            "|        Resende Shop|          Vitória|           Santos|  1100.0|    2018-12-31|     2019-01-09|         null|         null|\n",
            "| Capital Reciclaveis|        São Paulo|          Vitória|  1000.0|    2019-03-21|     2019-03-31|          6.0|         null|\n",
            "|       Nova Olinda B|          Vitória|          Vitória|     7.0|    2019-04-23|     2019-04-25|         null|         null|\n",
            "|             Marilan|   Belo Horizonte|Rio Grande do Sul|  2000.0|    2019-05-16|     2019-05-17|         null|         null|\n",
            "|              Termag|Rio Grande do Sul|           Santos|  1400.0|    2019-05-16|     2019-05-19|         null|         null|\n",
            "|Elkem Carboderivados|        São Paulo|          Niterói|   450.0|    2019-11-14|     2019-11-19|         null|         null|\n",
            "|           Viavarejo|   Rio De Janeiro|        São Paulo|   450.0|    2019-11-26|     2019-11-29|         null|         null|\n",
            "+--------------------+-----------------+-----------------+--------+--------------+---------------+-------------+-------------+\n",
            "\n"
          ]
        }
      ]
    },
    {
      "cell_type": "markdown",
      "source": [
        "#### Prazo Entrega"
      ],
      "metadata": {
        "id": "C0I40U714Kep"
      }
    },
    {
      "cell_type": "code",
      "source": [
        "# Analise Prazo Entrega: \n",
        "# - Para completar Prazo de entrega, consideramos que todas entragas foram feiras no ultimo dia. \n",
        "# - ou seja, tempo Prazo Entrega = Tempo Entrega\n",
        "func_null = isnan(col('Prazo Entrega')) | (col('Prazo Entrega').isNull())\n",
        "df_prazo_entrega_null = df.filter(func_null)\n",
        "df_prazo_entrega_null.show(30)\n",
        "\n",
        "# TRATAMENTO\n",
        "df = df.withColumn('Prazo Entrega', \n",
        "                   when(func_null, col('Tempo Entrega')).\\\n",
        "                   otherwise(col('Prazo Entrega'))\n",
        "                   )"
      ],
      "metadata": {
        "colab": {
          "base_uri": "https://localhost:8080/"
        },
        "id": "f0PhtrDhLGz-",
        "outputId": "e357bfcd-1c0d-481f-98ec-bd87aa4abd13"
      },
      "execution_count": null,
      "outputs": [
        {
          "output_type": "stream",
          "name": "stdout",
          "text": [
            "+--------------------+-----------------+-----------------+--------+--------------+---------------+-------------+-------------+\n",
            "|        Nome Cliente| Município Início|Município Destino|Total Km|Data do Pedido|Data da Entrega|Prazo Entrega|Tempo Entrega|\n",
            "+--------------------+-----------------+-----------------+--------+--------------+---------------+-------------+-------------+\n",
            "|       Tempo Energia|   Belo Horizonte|          Vitória|   400.0|    2018-01-06|     2018-01-07|         null|          1.0|\n",
            "|         Yara Brasil|          Vitória|           Santos|  1100.0|    2018-01-11|     2018-01-17|         null|          6.0|\n",
            "|         Terphane Ne|Rio Grande do Sul|   Belo Horizonte|  2000.0|    2018-01-16|     2018-01-23|         null|          7.0|\n",
            "|           Xavantina|Rio Grande do Sul|          Niterói|  1600.0|    2018-01-25|     2018-01-29|         null|          4.0|\n",
            "|         Agro Latina|           Santos|        São Paulo|   100.0|    2018-02-02|     2018-02-03|         null|          1.0|\n",
            "|              Indaia|   Belo Horizonte|           Santos|   500.0|    2018-02-02|     2018-02-06|         null|          4.0|\n",
            "|       Yamada Matriz|        São Paulo|          Vitória|  1000.0|    2018-03-09|     2018-03-17|         null|          8.0|\n",
            "|            Zaccaria|Rio Grande do Sul|        São Paulo|  1450.0|    2018-03-09|     2018-03-13|         null|          4.0|\n",
            "|        Diamante Iii|   Belo Horizonte|          Vitória|   400.0|    2018-03-16|     2018-03-23|         null|          7.0|\n",
            "|   Ind De Moveis Thb|   Rio De Janeiro|          Vitória|   500.0|    2018-04-05|     2018-04-14|         null|          9.0|\n",
            "|         Tera Papeis|Rio Grande do Sul|          Vitória|  2000.0|    2018-07-31|     2018-08-09|         null|          9.0|\n",
            "|           Agropalma|           Santos|        São Paulo|   100.0|    2018-08-29|     2018-09-03|         null|          5.0|\n",
            "|       Rer Plasticos|          Niterói|Rio Grande do Sul|  1600.0|    2018-08-29|     2018-08-31|         null|          2.0|\n",
            "|        Resende Shop|          Vitória|           Santos|  1100.0|    2018-12-31|     2019-01-09|         null|          9.0|\n",
            "|       Reiter Brasil|   Rio De Janeiro|        São Paulo|   450.0|    2019-03-26|     2019-03-30|         null|          4.0|\n",
            "|       Nova Olinda B|          Vitória|          Vitória|     7.0|    2019-04-23|     2019-04-25|         null|          2.0|\n",
            "|             Marilan|   Belo Horizonte|Rio Grande do Sul|  2000.0|    2019-05-16|     2019-05-17|         null|          1.0|\n",
            "|              Termag|Rio Grande do Sul|           Santos|  1400.0|    2019-05-16|     2019-05-19|         null|          3.0|\n",
            "|Elkem Carboderivados|        São Paulo|          Niterói|   450.0|    2019-11-14|     2019-11-19|         null|          5.0|\n",
            "|           Viavarejo|   Rio De Janeiro|        São Paulo|   450.0|    2019-11-26|     2019-11-29|         null|          3.0|\n",
            "+--------------------+-----------------+-----------------+--------+--------------+---------------+-------------+-------------+\n",
            "\n"
          ]
        }
      ]
    },
    {
      "cell_type": "markdown",
      "source": [
        "#### Total Km"
      ],
      "metadata": {
        "id": "TyruwBOG4OhS"
      }
    },
    {
      "cell_type": "code",
      "source": [
        "# Analise Total Km\n",
        "# Notamos que so temos um registro com Total Km\n",
        "# Vamos completar os null com media considerando 'Município Início' e 'Município Destino'\n",
        "# No caso, vimos que media de Rio De Janeiro a Niterói é 20 km. Arrumando esse registro. \n",
        "\n",
        "func_null = isnan(col('Total Km')) | (col('Total Km').isNull())\n",
        "df_total_km_null = df.filter(func_null)\n",
        "\n",
        "print('DATAFRAME CONTANDO TOTAL KML NULOS')\n",
        "df_total_km_null.show(30)\n",
        "\n",
        "\n",
        "df_media_km = df.select(['Município Início', 'Município Destino', 'Total Km']).\\\n",
        "  groupBy(['Município Início', 'Município Destino']).\\\n",
        "  agg({'Total Km':'mean'})\n",
        "\n",
        "print('DATA FRAME COM A MEDIA')\n",
        "\n",
        "df_join_media_total_km = df.join(df_media_km, ['Município Início', 'Município Destino'], 'left')\n",
        "df_join_media_total_km.filter(func_null).show()\n",
        "\n",
        "\n",
        "df = df_join_media_total_km.withColumn(\n",
        "    'Total Km',\n",
        "    when(func_null, col('avg(Total Km)')).\\\n",
        "    otherwise(col('Total Km'))\n",
        "    \n",
        ").drop('avg(Total Km)')"
      ],
      "metadata": {
        "colab": {
          "base_uri": "https://localhost:8080/"
        },
        "id": "O9-YWpXzNDXk",
        "outputId": "c7088379-5afa-41ff-e077-22b52eb752e7"
      },
      "execution_count": null,
      "outputs": [
        {
          "output_type": "stream",
          "name": "stdout",
          "text": [
            "DATAFRAME CONTANDO TOTAL KML NULOS\n",
            "+------------+----------------+-----------------+--------+--------------+---------------+-------------+-------------+\n",
            "|Nome Cliente|Município Início|Município Destino|Total Km|Data do Pedido|Data da Entrega|Prazo Entrega|Tempo Entrega|\n",
            "+------------+----------------+-----------------+--------+--------------+---------------+-------------+-------------+\n",
            "|Diamante Iii|  Rio De Janeiro|          Niterói|    null|    2018-06-08|     2018-06-09|         10.0|          1.0|\n",
            "+------------+----------------+-----------------+--------+--------------+---------------+-------------+-------------+\n",
            "\n",
            "DATA FRAME COM A MEDIA\n",
            "+----------------+-----------------+------------+--------+--------------+---------------+-------------+-------------+-------------+\n",
            "|Município Início|Município Destino|Nome Cliente|Total Km|Data do Pedido|Data da Entrega|Prazo Entrega|Tempo Entrega|avg(Total Km)|\n",
            "+----------------+-----------------+------------+--------+--------------+---------------+-------------+-------------+-------------+\n",
            "|  Rio De Janeiro|          Niterói|Diamante Iii|    null|    2018-06-08|     2018-06-09|         10.0|          1.0|         20.0|\n",
            "+----------------+-----------------+------------+--------+--------------+---------------+-------------+-------------+-------------+\n",
            "\n"
          ]
        }
      ]
    },
    {
      "cell_type": "markdown",
      "source": [
        "#### Nome Cliente "
      ],
      "metadata": {
        "id": "jmmVq6gW4Skx"
      }
    },
    {
      "cell_type": "code",
      "source": [
        "# Analise Nome Cliente \n",
        "# - Fazendo uma analise, identificamos que nao é possivel identificar cliente. \n",
        "# - Assim, tratamos o dado de null pela string \"Nao Identificado\"\n",
        "\n",
        "func_null = isnan(col('Nome Cliente')) | (col('Nome Cliente').isNull())\n",
        "df_nome_cliente_null = df.filter(func_null)\n",
        "\n",
        "df_nome_cliente_null.show()\n",
        "\n",
        "df.filter((col('Município Início')==lit('Vitória')) & (col('Município Destino')==lit('Niterói'))).show()\n",
        "\n",
        "df = df.withColumn('Nome Cliente', \n",
        "                   when(func_null, lit('Não Identificado')).\\\n",
        "                   otherwise(col('Nome Cliente'))\n",
        "                   )"
      ],
      "metadata": {
        "colab": {
          "base_uri": "https://localhost:8080/"
        },
        "id": "xFe6aB2-XIfy",
        "outputId": "f993f049-47c5-455f-b3d7-07d1210a8563"
      },
      "execution_count": null,
      "outputs": [
        {
          "output_type": "stream",
          "name": "stdout",
          "text": [
            "+----------------+-----------------+------------+--------+--------------+---------------+-------------+-------------+\n",
            "|Município Início|Município Destino|Nome Cliente|Total Km|Data do Pedido|Data da Entrega|Prazo Entrega|Tempo Entrega|\n",
            "+----------------+-----------------+------------+--------+--------------+---------------+-------------+-------------+\n",
            "|  Belo Horizonte|           Santos|        null|   500.0|    2018-01-04|     2018-01-14|          2.0|         10.0|\n",
            "|          Santos|           Santos|        null|     4.0|    2018-01-05|     2018-01-10|          8.0|        300.0|\n",
            "|  Rio De Janeiro|           Santos|        null|   500.0|    2018-01-05|     2018-01-14|          6.0|          9.0|\n",
            "|         Vitória|   Rio De Janeiro|        null|   500.0|    2018-01-09|     2018-01-10|          7.0|          1.0|\n",
            "|  Belo Horizonte|          Niterói|        null|   450.0|    2018-01-24|     2018-01-31|          9.0|          7.0|\n",
            "|  Belo Horizonte|          Niterói|        null|   450.0|    2018-01-27|     2018-01-30|          4.0|          3.0|\n",
            "|         Vitória|          Niterói|        null|   500.0|    2018-04-07|     2018-04-16|          7.0|          9.0|\n",
            "|  Belo Horizonte|          Vitória|        null|   400.0|    2018-05-10|     2018-05-12|          5.0|          2.0|\n",
            "|  Rio De Janeiro|        São Paulo|        null|   450.0|    2018-08-02|     2018-08-08|         10.0|          6.0|\n",
            "|         Vitória|          Niterói|        null|   500.0|    2018-09-21|     2018-09-28|          3.0|          7.0|\n",
            "|         Niterói|          Niterói|        null|     1.0|    2018-09-21|     2018-09-25|          4.0|          4.0|\n",
            "|          Santos|          Niterói|        null|   500.0|    2018-09-23|     2018-10-03|         10.0|         10.0|\n",
            "|          Santos|          Niterói|        null|   500.0|    2018-09-23|     2018-10-03|         10.0|         10.0|\n",
            "|         Niterói|          Niterói|        null|     4.0|    2018-09-23|     2018-09-28|          7.0|          5.0|\n",
            "|  Belo Horizonte|          Niterói|        null|   450.0|    2018-09-26|     2018-10-03|          8.0|          7.0|\n",
            "|          Santos|          Niterói|        null|   500.0|    2018-09-26|     2018-09-28|          5.0|          2.0|\n",
            "|  Belo Horizonte|          Niterói|        null|   450.0|    2018-09-28|     2018-10-02|          2.0|          4.0|\n",
            "|  Rio De Janeiro|          Niterói|        null|    20.0|    2018-09-28|     2018-10-08|          3.0|         10.0|\n",
            "|  Belo Horizonte|          Niterói|        null|   450.0|    2018-09-29|     2018-10-06|          5.0|          7.0|\n",
            "|  Belo Horizonte|          Niterói|        null|   450.0|    2018-09-30|     2018-10-03|         10.0|          3.0|\n",
            "+----------------+-----------------+------------+--------+--------------+---------------+-------------+-------------+\n",
            "only showing top 20 rows\n",
            "\n",
            "+----------------+-----------------+--------------------+--------+--------------+---------------+-------------+-------------+\n",
            "|Município Início|Município Destino|        Nome Cliente|Total Km|Data do Pedido|Data da Entrega|Prazo Entrega|Tempo Entrega|\n",
            "+----------------+-----------------+--------------------+--------+--------------+---------------+-------------+-------------+\n",
            "|         Vitória|          Niterói|        Diamante Iii|   500.0|    2018-01-13|     2018-01-18|          1.0|          5.0|\n",
            "|         Vitória|          Niterói|       Tempo Energia|   500.0|    2018-01-31|     2018-02-07|          8.0|          7.0|\n",
            "|         Vitória|          Niterói|      V S B Granitos|     0.0|    2018-02-16|     2018-02-19|          8.0|          3.0|\n",
            "|         Vitória|          Niterói|   Ind De Moveis Thb|   500.0|    2018-03-23|     2018-03-28|         10.0|          5.0|\n",
            "|         Vitória|          Niterói|            Zaccaria|   500.0|    2018-03-24|     2018-03-27|          2.0|          3.0|\n",
            "|         Vitória|          Niterói|       Libra Energia|   500.0|    2018-03-31|     2018-04-03|          8.0|          3.0|\n",
            "|         Vitória|          Niterói|                null|   500.0|    2018-04-07|     2018-04-16|          7.0|          9.0|\n",
            "|         Vitória|          Niterói|              Renova|   500.0|    2018-04-20|     2018-04-25|          2.0|          5.0|\n",
            "|         Vitória|          Niterói|              Renova|   500.0|    2018-05-17|     2018-05-22|          1.0|          5.0|\n",
            "|         Vitória|          Niterói|            Zaccaria|   500.0|    2018-05-23|     2018-05-27|          8.0|          4.0|\n",
            "|         Vitória|          Niterói|   Ind De Moveis Thb|   500.0|    2018-06-02|     2018-06-08|          6.0|          6.0|\n",
            "|         Vitória|          Niterói|              Indaia|   500.0|    2018-06-14|     2018-06-23|          2.0|          9.0|\n",
            "|         Vitória|          Niterói|       Rer Plasticos|   500.0|    2018-06-16|     2018-06-25|          4.0|          9.0|\n",
            "|         Vitória|          Niterói|        Weg Amazonia|   500.0|    2018-06-23|     2018-06-28|          3.0|          5.0|\n",
            "|         Vitória|          Niterói|       Libra Energia|   500.0|    2018-07-26|     2018-07-27|          2.0|          1.0|\n",
            "|         Vitória|          Niterói|Hosp Sao Francisc...|   500.0|    2018-08-15|     2018-08-19|          6.0|          4.0|\n",
            "|         Vitória|          Niterói|               Elian|   500.0|    2018-09-19|     2018-09-22|          3.0|          3.0|\n",
            "|         Vitória|          Niterói|             Beloaco|   500.0|    2018-09-20|     2018-09-24|          7.0|          4.0|\n",
            "|         Vitória|          Niterói|                null|   500.0|    2018-09-21|     2018-09-28|          3.0|          7.0|\n",
            "|         Vitória|          Niterói|                null|   500.0|    2018-09-30|     2018-10-10|          1.0|         10.0|\n",
            "+----------------+-----------------+--------------------+--------+--------------+---------------+-------------+-------------+\n",
            "only showing top 20 rows\n",
            "\n"
          ]
        }
      ]
    },
    {
      "cell_type": "markdown",
      "source": [
        "## Dimensão Consistência (consistency)"
      ],
      "metadata": {
        "id": "suMG2UqMaDxr"
      }
    },
    {
      "cell_type": "markdown",
      "source": [
        "### Analise (consistency)\n",
        "\n",
        "- **Tempo Entrega**: 2 casos de Consitencia, 0.073% da base. \n",
        "- **Total Km**: Os trajetos de *Rio Grande do Sul -> Niterói* e *Vitória -> Niterói* apresentaram dados inconsistentes. Totalizando 2 registros, 0.073% da base.\n",
        "\n"
      ],
      "metadata": {
        "id": "nc9M9AfFaKS8"
      }
    },
    {
      "cell_type": "markdown",
      "source": [
        "#### Tempo Entrega"
      ],
      "metadata": {
        "id": "XAa3PIMs4ZDF"
      }
    },
    {
      "cell_type": "code",
      "source": [
        "# Tempo Entrega\n",
        "# - Tempo de entrega deve ser igual a diferenca de dias entre Data da Entrega e Data do Pedido\n",
        "\n",
        "df_tempo_entrega_consistency = df.withColumn('diff', datediff(col('Data da Entrega').cast('date'), col('Data do Pedido').cast('date')))\n",
        "\n",
        "df_tempo_entrega_consistency = df_tempo_entrega_consistency.filter(col('Tempo Entrega')!=col('diff'))\n",
        "df_tempo_entrega_consistency.show()\n",
        "\n",
        "print(f'PECENTUAL DA BASE {df_tempo_entrega_consistency.count()/total_registros*100}%')"
      ],
      "metadata": {
        "colab": {
          "base_uri": "https://localhost:8080/"
        },
        "id": "WeBMjgFjaDgG",
        "outputId": "26175f9f-aec3-426f-b557-bebb9ca91821"
      },
      "execution_count": null,
      "outputs": [
        {
          "output_type": "stream",
          "name": "stdout",
          "text": [
            "+----------------+-----------------+----------------+--------+--------------+---------------+-------------+-------------+----+\n",
            "|Município Início|Município Destino|    Nome Cliente|Total Km|Data do Pedido|Data da Entrega|Prazo Entrega|Tempo Entrega|diff|\n",
            "+----------------+-----------------+----------------+--------+--------------+---------------+-------------+-------------+----+\n",
            "|          Santos|           Santos|Não Identificado|     4.0|    2018-01-05|     2018-01-10|          8.0|        300.0|   5|\n",
            "|         Niterói|          Vitória|         Candura|   500.0|    2019-08-02|     2019-08-08|         30.0|         30.0|   6|\n",
            "+----------------+-----------------+----------------+--------+--------------+---------------+-------------+-------------+----+\n",
            "\n",
            "PECENTUAL DA BASE 0.07339449541284404%\n"
          ]
        }
      ]
    },
    {
      "cell_type": "markdown",
      "source": [
        "#### Total Km"
      ],
      "metadata": {
        "id": "syMK3J5A4fPP"
      }
    },
    {
      "cell_type": "code",
      "source": [
        "# Total Km\n",
        "# - Fazendo uma analise pelo skewness, podemos ver que temos alguns registros estao tendo outliers\n",
        "# - Esse outliers, sao nos trajetos Rio Grande do Sul para Niterói e   Vitória e Niterói.\n",
        "\n",
        "df_max = df.select(['Município Início','Município Destino', 'Total Km']).\\\n",
        "  groupBy(['Município Início','Município Destino']).\\\n",
        "  agg({'Total Km':'max'})\n",
        "\n",
        "df_min = df.select(['Município Início','Município Destino', 'Total Km']).\\\n",
        "  groupBy(['Município Início','Município Destino']).\\\n",
        "  agg({'Total Km':'min'})\n",
        "\n",
        "\n",
        "df_mean = df.select(['Município Início','Município Destino', 'Total Km']).\\\n",
        "  groupBy(['Município Início','Município Destino']).\\\n",
        "  agg({'Total Km':'mean'})\n",
        "\n",
        "df_skewness = df.select(['Município Início','Município Destino', 'Total Km']).\\\n",
        "  groupBy(['Município Início','Município Destino']).\\\n",
        "  agg({'Total Km':'skewness'})\n",
        "\n",
        "df_count = df.select(['Município Início','Município Destino', 'Total Km']).\\\n",
        "  groupBy(['Município Início','Município Destino']).\\\n",
        "  agg({'Total Km':'count'})\n",
        "\n",
        "regra = ['Município Início', 'Município Destino']\n",
        "\n",
        "print('DATAFRAME COM AS METRICAS')\n",
        "df_max.join(df_min,regra).join(df_mean,regra).join(df_skewness,regra).join(df_count,regra).\\\n",
        "  filter(col('skewness(Total Km)').isNotNull()).\\\n",
        "  filter((col('skewness(Total Km)')>1.0) | (col('skewness(Total Km)')<-1.0)).\\\n",
        "  show()\n",
        "\n",
        "\n",
        "print('Rio Grande do Sul -> Niterói')\n",
        "df_t1 = df.filter( (col('Município Destino')=='Niterói') & (col('Município Início')=='Rio Grande do Sul'))\n",
        "df_t1.show(5)\n",
        "\n",
        "print(f'VALOR QUE APARECE MAIS Rio Grande do Sul -> Niterói: {df_t1.approxQuantile(\"Total Km\", [0.5], 0.25)}')\n",
        "\n",
        "print('COUNT DOS VALORES')\n",
        "df_t1.select(['Total Km']).\\\n",
        "  groupBy(['Total Km']).\\\n",
        "  agg({'Total Km':'count'}).show()\n",
        "\n",
        "\n",
        "print('Vitória -> Niterói')\n",
        "df_t2 = df.filter( (col('Município Destino')=='Niterói') & (col('Município Início')=='Vitória'))\n",
        "df_t2.show(5)\n",
        "\n",
        "print(f'VALOR QUE APARECE MAIS Vitória -> Niterói: {df_t2.approxQuantile(\"Total Km\", [0.5], 0.25)}')\n",
        "\n",
        "\n",
        "print('COUNT DOS VALORES')\n",
        "df_t2.select(['Total Km']).\\\n",
        "  groupBy(['Total Km']).\\\n",
        "  agg({'Total Km':'count'}).show()"
      ],
      "metadata": {
        "colab": {
          "base_uri": "https://localhost:8080/"
        },
        "id": "E-iM9xPGfyI2",
        "outputId": "2c6c4fd4-4ff0-4601-e813-0f16e25b24cc"
      },
      "execution_count": null,
      "outputs": [
        {
          "output_type": "stream",
          "name": "stdout",
          "text": [
            "DATAFRAME COM AS METRICAS\n",
            "+-----------------+-----------------+-------------+-------------+-------------+------------------+---------------+\n",
            "| Município Início|Município Destino|max(Total Km)|min(Total Km)|avg(Total Km)|skewness(Total Km)|count(Total Km)|\n",
            "+-----------------+-----------------+-------------+-------------+-------------+------------------+---------------+\n",
            "|Rio Grande do Sul|          Niterói|     200000.0|       1600.0|       5568.0| 6.857142857142857|             50|\n",
            "|          Vitória|          Niterói|        500.0|          0.0|     492.1875|-7.811265775524034|             64|\n",
            "+-----------------+-----------------+-------------+-------------+-------------+------------------+---------------+\n",
            "\n",
            "Rio Grande do Sul -> Niterói\n",
            "+-----------------+-----------------+-----------------+--------+--------------+---------------+-------------+-------------+\n",
            "| Município Início|Município Destino|     Nome Cliente|Total Km|Data do Pedido|Data da Entrega|Prazo Entrega|Tempo Entrega|\n",
            "+-----------------+-----------------+-----------------+--------+--------------+---------------+-------------+-------------+\n",
            "|Rio Grande do Sul|          Niterói|Ind De Moveis Thb|  1600.0|    2018-01-12|     2018-01-21|          9.0|          9.0|\n",
            "|Rio Grande do Sul|          Niterói|   Sao Bartolomeu|  1600.0|    2018-01-20|     2018-01-22|          4.0|          2.0|\n",
            "|Rio Grande do Sul|          Niterói|        Xavantina|  1600.0|    2018-01-25|     2018-01-29|          4.0|          4.0|\n",
            "|Rio Grande do Sul|          Niterói|      Unimed Sjrp|200000.0|    2018-03-16|     2018-03-19|          1.0|          3.0|\n",
            "|Rio Grande do Sul|          Niterói|    Libra Energia|  1600.0|    2018-03-17|     2018-03-25|          5.0|          8.0|\n",
            "+-----------------+-----------------+-----------------+--------+--------------+---------------+-------------+-------------+\n",
            "only showing top 5 rows\n",
            "\n",
            "VALOR QUE APARECE MAIS Rio Grande do Sul -> Niterói: [1600.0]\n",
            "COUNT DOS VALORES\n",
            "+--------+---------------+\n",
            "|Total Km|count(Total Km)|\n",
            "+--------+---------------+\n",
            "|  1600.0|             49|\n",
            "|200000.0|              1|\n",
            "+--------+---------------+\n",
            "\n",
            "Vitória -> Niterói\n",
            "+----------------+-----------------+-----------------+--------+--------------+---------------+-------------+-------------+\n",
            "|Município Início|Município Destino|     Nome Cliente|Total Km|Data do Pedido|Data da Entrega|Prazo Entrega|Tempo Entrega|\n",
            "+----------------+-----------------+-----------------+--------+--------------+---------------+-------------+-------------+\n",
            "|         Vitória|          Niterói|     Diamante Iii|   500.0|    2018-01-13|     2018-01-18|          1.0|          5.0|\n",
            "|         Vitória|          Niterói|    Tempo Energia|   500.0|    2018-01-31|     2018-02-07|          8.0|          7.0|\n",
            "|         Vitória|          Niterói|   V S B Granitos|     0.0|    2018-02-16|     2018-02-19|          8.0|          3.0|\n",
            "|         Vitória|          Niterói|Ind De Moveis Thb|   500.0|    2018-03-23|     2018-03-28|         10.0|          5.0|\n",
            "|         Vitória|          Niterói|         Zaccaria|   500.0|    2018-03-24|     2018-03-27|          2.0|          3.0|\n",
            "+----------------+-----------------+-----------------+--------+--------------+---------------+-------------+-------------+\n",
            "only showing top 5 rows\n",
            "\n",
            "VALOR QUE APARECE MAIS Vitória -> Niterói: [500.0]\n",
            "COUNT DOS VALORES\n",
            "+--------+---------------+\n",
            "|Total Km|count(Total Km)|\n",
            "+--------+---------------+\n",
            "|     0.0|              1|\n",
            "|   500.0|             63|\n",
            "+--------+---------------+\n",
            "\n"
          ]
        }
      ]
    },
    {
      "cell_type": "markdown",
      "source": [
        "### Invervensão Realizada (consistency)\n",
        "\n",
        "- **Tempo Entrega** : Para os dados que tinham inconsidencia, calculamos o tempo de entrega usando a data de pedido e entrega. \n",
        "- **Total Km**:  Foi encontrado 2 registro com outliers, os mesmo foram alterados pelo valor de maior frequencia para os trajetos. \n",
        "-- *Rio Grande do Sul -> Niterói* com Total Km com valor de 200000.0, foi alterado pelo valor 1600.0(conforme calculado na analise). \n",
        "-- *Vitória -> Niterói* com Total Km com valor de 0.0, foi alterado pelo valor 500.0(conforme calculado na analise). \n",
        "\n"
      ],
      "metadata": {
        "id": "moM0mJegdnHo"
      }
    },
    {
      "cell_type": "markdown",
      "source": [
        "#### Tempo Entrega"
      ],
      "metadata": {
        "id": "6ebBlIh-4pcc"
      }
    },
    {
      "cell_type": "code",
      "source": [
        "# Tempo Entrega\n",
        "# O que deram inconsistencia calculamos \n",
        "\n",
        "\n",
        "df_aux = df.withColumn('diff', datediff(col('Data da Entrega').cast('date'), col('Data do Pedido').cast('date')))\n",
        "\n",
        "#TRANSFORMACAO\n",
        "df_aux = df_aux.withColumn('Tempo Entrega', \n",
        "                           when(col('Tempo Entrega')!=col('diff'), col('diff')).\\\n",
        "                           otherwise(col('Tempo Entrega'))\n",
        "                           ).drop('diff')\n",
        "\n",
        "df = df_aux"
      ],
      "metadata": {
        "id": "WaCwAwaHdpJi"
      },
      "execution_count": null,
      "outputs": []
    },
    {
      "cell_type": "markdown",
      "source": [
        "#### Total Km"
      ],
      "metadata": {
        "id": "9Uc_LC6u4u8p"
      }
    },
    {
      "cell_type": "code",
      "source": [
        "## Total Km\n",
        "# Foi encontrado 2 registro com outliers. \n",
        "\n",
        "# - Rio Grande do Sul -> Niterói com Total Km com valor de 200000.0, sendo é 1600.0. \n",
        "# - Vitória -> Niterói com Total Km com valor de 0.0, sendo é 500.0. \n",
        "\n",
        "df = df.withColumn('Total Km', when(\n",
        "    (col('Município Destino')=='Niterói') & (col('Município Início')=='Rio Grande do Sul'),lit(1600.0)\n",
        "    ).otherwise(col('Total Km'))\n",
        ")\n",
        "\n",
        "df = df.withColumn('Total Km', when(\n",
        "     (col('Município Destino')=='Niterói') & (col('Município Início')=='Vitória') ,lit(500.0)\n",
        "    ).otherwise(col('Total Km'))\n",
        ")\n",
        "\n",
        "\n",
        "\n",
        "df_t1 = df.filter( (col('Município Destino')=='Niterói') & (col('Município Início')=='Rio Grande do Sul'))\n",
        "df_t1.select(['Total Km']).\\\n",
        "  groupBy(['Total Km']).\\\n",
        "  agg({'Total Km':'count'}).show()\n",
        "\n",
        "\n",
        "df_t2 = df.filter( (col('Município Destino')=='Niterói') & (col('Município Início')=='Vitória'))\n",
        "df_t2.select(['Total Km']).\\\n",
        "  groupBy(['Total Km']).\\\n",
        "  agg({'Total Km':'count'}).show()\n",
        "\n"
      ],
      "metadata": {
        "colab": {
          "base_uri": "https://localhost:8080/"
        },
        "id": "pXLsV_Pqpfit",
        "outputId": "4fafc772-ff25-4483-f9ba-5ca8ffa0ae67"
      },
      "execution_count": null,
      "outputs": [
        {
          "output_type": "stream",
          "name": "stdout",
          "text": [
            "+--------+---------------+\n",
            "|Total Km|count(Total Km)|\n",
            "+--------+---------------+\n",
            "|  1600.0|             50|\n",
            "+--------+---------------+\n",
            "\n",
            "+--------+---------------+\n",
            "|Total Km|count(Total Km)|\n",
            "+--------+---------------+\n",
            "|   500.0|             64|\n",
            "+--------+---------------+\n",
            "\n"
          ]
        }
      ]
    },
    {
      "cell_type": "markdown",
      "source": [
        "## Analise Final\n",
        "\n",
        "\n",
        "## Impactos Financeiros\n",
        "\n",
        "- Identficamos quantidade de Total de KM, incompletos e com valores inconsitentes. Isso pode levar ao calculo incorreto dos custos, calculando os lucros incorretamente. \n",
        "\n",
        "- Foi identificado entregas sem o nome do cliente. Isso pode impactar na cobrança dos cliente, não sendo possivel receber o frete. \n",
        "\n",
        "- Os custos para tratamentos desses dados também gastaram homem hora e poder de processamento. O ideal é que esse dados sejam arrumados na fonte, evitando gastos de processamento para correção. \n",
        "\n",
        "\n",
        "## Custos de Análise\n",
        "\n",
        "- Considerando o valor hora em 110 reais. Como o tempo gasto para análise e correção dos dodos foi de 20h, totalizando 2200 reais.\n",
        "\n"
      ],
      "metadata": {
        "id": "zpqLZMz7ybbr"
      }
    },
    {
      "cell_type": "code",
      "source": [
        "pandasDF = df.toPandas()\n",
        "pandasDF.to_excel('/content/Base_Logistica_Corrigida.xlsx', sheet_name='Sheet1',index=False)"
      ],
      "metadata": {
        "id": "5iToxkRLzuKU"
      },
      "execution_count": null,
      "outputs": []
    }
  ]
}