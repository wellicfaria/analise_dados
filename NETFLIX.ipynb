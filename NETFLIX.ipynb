{
  "nbformat": 4,
  "nbformat_minor": 0,
  "metadata": {
    "colab": {
      "name": "NETFLIX.ipynb",
      "provenance": [],
      "include_colab_link": true
    },
    "kernelspec": {
      "name": "python3",
      "display_name": "Python 3"
    },
    "language_info": {
      "name": "python"
    }
  },
  "cells": [
    {
      "cell_type": "markdown",
      "metadata": {
        "id": "view-in-github",
        "colab_type": "text"
      },
      "source": [
        "<a href=\"https://colab.research.google.com/github/wellicfaria/analise_dados/blob/main/NETFLIX.ipynb\" target=\"_parent\"><img src=\"https://colab.research.google.com/assets/colab-badge.svg\" alt=\"Open In Colab\"/></a>"
      ]
    },
    {
      "cell_type": "code",
      "execution_count": null,
      "metadata": {
        "colab": {
          "base_uri": "https://localhost:8080/"
        },
        "id": "VATl_R4OBjuV",
        "outputId": "bad18f6d-fc80-4877-84c4-788732d11ca0"
      },
      "outputs": [
        {
          "output_type": "stream",
          "name": "stdout",
          "text": [
            "Looking in indexes: https://pypi.org/simple, https://us-python.pkg.dev/colab-wheels/public/simple/\n",
            "Collecting pyspark\n",
            "  Downloading pyspark-3.2.1.tar.gz (281.4 MB)\n",
            "\u001b[K     |████████████████████████████████| 281.4 MB 33 kB/s \n",
            "\u001b[?25hCollecting py4j==0.10.9.3\n",
            "  Downloading py4j-0.10.9.3-py2.py3-none-any.whl (198 kB)\n",
            "\u001b[K     |████████████████████████████████| 198 kB 64.7 MB/s \n",
            "\u001b[?25hBuilding wheels for collected packages: pyspark\n",
            "  Building wheel for pyspark (setup.py) ... \u001b[?25l\u001b[?25hdone\n",
            "  Created wheel for pyspark: filename=pyspark-3.2.1-py2.py3-none-any.whl size=281853642 sha256=8c83c1134f11a62ca9a733995c8c3f6a3d988e97bdc10751d4910ed0781e5dae\n",
            "  Stored in directory: /root/.cache/pip/wheels/9f/f5/07/7cd8017084dce4e93e84e92efd1e1d5334db05f2e83bcef74f\n",
            "Successfully built pyspark\n",
            "Installing collected packages: py4j, pyspark\n",
            "Successfully installed py4j-0.10.9.3 pyspark-3.2.1\n"
          ]
        }
      ],
      "source": [
        "!pip install pyspark"
      ]
    },
    {
      "cell_type": "code",
      "source": [
        "import pandas as pd\n",
        "from pyspark.sql import SparkSession\n",
        "from pyspark.sql.functions import col,isnan, when, count, lit, datediff, split, explode, regexp_replace, upper"
      ],
      "metadata": {
        "id": "Ct_CJc1UCcoa"
      },
      "execution_count": null,
      "outputs": []
    },
    {
      "cell_type": "code",
      "source": [
        "spark = SparkSession.builder.appName(\"APP_NETFLIX\").getOrCreate()"
      ],
      "metadata": {
        "id": "aSU-qwZ0FlAt"
      },
      "execution_count": null,
      "outputs": []
    },
    {
      "cell_type": "code",
      "source": [
        "df_prime = spark.read.csv(\"/content/drive/MyDrive/Colab Notebooks/DADOS/amazon_prime_titles.csv\",header=True)\n",
        "df_prime.show(5,truncate=False)"
      ],
      "metadata": {
        "colab": {
          "base_uri": "https://localhost:8080/"
        },
        "id": "S9zqg0_QBpxf",
        "outputId": "f2b47ad2-f404-43c0-ff3a-0f6b0a17ae78"
      },
      "execution_count": null,
      "outputs": [
        {
          "output_type": "stream",
          "name": "stdout",
          "text": [
            "+-------+-----+--------------------+--------------+-------------------------------------------------------------------------------------------------------------------------------------+--------------+--------------+------------+------+--------+-----------------------+-----------------------------------------------------------------------------------------------------------------------------------------------------------------------------------------------------------------------------------------------------------------------------------------------------------------------------------------------------------------------------------+\n",
            "|show_id|type |title               |director      |cast                                                                                                                                 |country       |date_added    |release_year|rating|duration|listed_in              |description                                                                                                                                                                                                                                                                                                                                                                        |\n",
            "+-------+-----+--------------------+--------------+-------------------------------------------------------------------------------------------------------------------------------------+--------------+--------------+------------+------+--------+-----------------------+-----------------------------------------------------------------------------------------------------------------------------------------------------------------------------------------------------------------------------------------------------------------------------------------------------------------------------------------------------------------------------------+\n",
            "|s1     |Movie|The Grand Seduction |Don McKellar  |Brendan Gleeson, Taylor Kitsch, Gordon Pinsent                                                                                       |Canada        |March 30, 2021|2014        |null  |113 min |Comedy, Drama          |A small fishing village must procure a local doctor to secure a lucrative business contract. When unlikely candidate and big city doctor Paul Lewis lands in their lap for a trial residence, the townsfolk rally together to charm him into staying. As the doctor's time in the village winds to a close, acting mayor Murray French has no choice but to pull out all the stops.|\n",
            "|s2     |Movie|Take Care Good Night|Girish Joshi  |Mahesh Manjrekar, Abhay Mahajan, Sachin Khedekar                                                                                     |India         |March 30, 2021|2018        |13+   |110 min |Drama, International   |A Metro Family decides to fight a Cyber Criminal threatening their stability and pride.                                                                                                                                                                                                                                                                                            |\n",
            "|s3     |Movie|Secrets of Deception|Josh Webber   |Tom Sizemore, Lorenzo Lamas, Robert LaSardo, Richard Jones, Yancey Arias, Noel Gugliemi                                              |United States |March 30, 2021|2017        |null  |74 min  |Action, Drama, Suspense|After a man discovers his wife is cheating on him with a neighborhood kid he goes down a furious path of self-destruction                                                                                                                                                                                                                                                          |\n",
            "|s4     |Movie|Pink: Staying True  |Sonia Anderson|Interviews with: Pink, Adele, Beyoncé, Britney Spears, Christina Aguilera, more!                                                     |United States |March 30, 2021|2014        |null  |69 min  |Documentary            |\"Pink breaks the mold once again, bringing her career to a new level in 2013 with a world tour that entertains unlike ever before! Get inside access to \"\"the girl who got the party started\"\" with exclusive interviews and rare live performances.\"                                                                                                                              |\n",
            "|s5     |Movie|Monster Maker       |Giles Foster  |Harry Dean Stanton, Kieran O'Brien, George Costigan, Amanda Dickinson, Alison Steadman, Grant Bardsley, Bill Moody, Matthew Scurfield|United Kingdom|March 30, 2021|1989        |null  |45 min  |Drama, Fantasy         |Teenage Matt Banting wants to work with a famous but eccentric creature/special effects man named Chancey Bellows. He gets more than he bargained for when one of the creatures, the giant dragon-like Ultragorgon, takes Matt under his wing. Matt is forced to confront his inner monsters while working out his issues with his father.                                         |\n",
            "+-------+-----+--------------------+--------------+-------------------------------------------------------------------------------------------------------------------------------------+--------------+--------------+------------+------+--------+-----------------------+-----------------------------------------------------------------------------------------------------------------------------------------------------------------------------------------------------------------------------------------------------------------------------------------------------------------------------------------------------------------------------------+\n",
            "only showing top 5 rows\n",
            "\n"
          ]
        }
      ]
    },
    {
      "cell_type": "code",
      "source": [
        "name_column = \"listed_in\"\n",
        "df_axu = df_prime\\\n",
        "  .select(name_column)\\\n",
        "  .withColumn(name_column,upper(col(name_column)))\\\n",
        "  .withColumn(name_column, regexp_replace(col(name_column),' ',''))\\\n",
        "  .withColumn(name_column, split(col(name_column),','))\\\n",
        "  .withColumn(name_column, explode(col(name_column)))\\\n",
        "  .orderBy(name_column, ascending=False)\\\n",
        "  .distinct()\n",
        "\n",
        "qt = df_axu.count()\n",
        "print(f\"Quantidade de Generos: {qt}\")\n",
        "df_axu.show(n=qt, truncate=False)"
      ],
      "metadata": {
        "colab": {
          "base_uri": "https://localhost:8080/"
        },
        "id": "JsCKgoPXEzQe",
        "outputId": "f3686e00-62ac-4c76-ad63-40447dcb8bdb"
      },
      "execution_count": null,
      "outputs": [
        {
          "output_type": "stream",
          "name": "stdout",
          "text": [
            "Quantidade de Generos: 70\n",
            "+---------------------------+\n",
            "|listed_in                  |\n",
            "+---------------------------+\n",
            "|SPORTS                     |\n",
            "|WILLIAMHAADE               |\n",
            "|2016                       |\n",
            "|2012                       |\n",
            "|2020                       |\n",
            "|ANDCULTURE                 |\n",
            "|ROMANCE                    |\n",
            "|44MIN                      |\n",
            "|ARTS                       |\n",
            "|INTERNATIONAL              |\n",
            "|TONYLEE                    |\n",
            "|2014                       |\n",
            "|MICLARRY                   |\n",
            "|SCIENCEFICTION             |\n",
            "|ADVENTURE                  |\n",
            "|104MIN                     |\n",
            "|1940                       |\n",
            "|18+                        |\n",
            "|97MIN                      |\n",
            "|ENTERTAINMENT              |\n",
            "|61MIN                      |\n",
            "|TALKSHOWANDVARIETY         |\n",
            "|CHARLESARNT\"               |\n",
            "|FITNESS                    |\n",
            "|SUSPENSE                   |\n",
            "|REESEAKALOWKEYRG           |\n",
            "|IRONEYESCODY               |\n",
            "|HISTORICAL                 |\n",
            "|LGBTQ                      |\n",
            "|CAMERONFRASER              |\n",
            "|BJMINOR                    |\n",
            "|YAKIMACANUTT\"              |\n",
            "|135MIN                     |\n",
            "|99MIN                      |\n",
            "|ANIMATION                  |\n",
            "|GUINN``BIGBOY''WILLIAMS\"   |\n",
            "|MANUELGONZÁLEZSABIN\"\"CAÑITA|\n",
            "|COMEDY                     |\n",
            "|HORROR                     |\n",
            "|93MIN                      |\n",
            "|MILITARYANDWAR             |\n",
            "|TOMLINGHAM                 |\n",
            "|R                          |\n",
            "|DRAMA                      |\n",
            "|TVSHOWS                    |\n",
            "|ANIME                      |\n",
            "|SPECIALINTEREST            |\n",
            "|MUSICVIDEOSANDCONCERTS     |\n",
            "|16+                        |\n",
            "|IVANMILLER                 |\n",
            "|7+                         |\n",
            "|ARTHOUSE                   |\n",
            "|CRYSTALHOWELL              |\n",
            "|GEORGECLEVELAND            |\n",
            "|FANTASY                    |\n",
            "|TEXPALMER                  |\n",
            "|KIDS                       |\n",
            "|GLENNSTRANGE\"              |\n",
            "|YOUNGADULTAUDIENCE         |\n",
            "|UNSCRIPTED                 |\n",
            "|LEWLUANA\"                  |\n",
            "|MARKSALIDINO               |\n",
            "|WESTERN                    |\n",
            "|FAITHANDSPIRITUALITY       |\n",
            "|DANNYTELLEZ                |\n",
            "|MARTINKOVE                 |\n",
            "|KAYDENBRYCE                |\n",
            "|DOCUMENTARY                |\n",
            "|1945                       |\n",
            "|ACTION                     |\n",
            "+---------------------------+\n",
            "\n"
          ]
        }
      ]
    },
    {
      "cell_type": "code",
      "source": [
        "df_titles = spark.read.csv(\"/content/drive/MyDrive/Colab Notebooks/DADOS/netflix_titles.csv\",header=True)\n",
        "df_titles.show(5, truncate=False)"
      ],
      "metadata": {
        "colab": {
          "base_uri": "https://localhost:8080/"
        },
        "id": "W2cCig6QC2lB",
        "outputId": "fd8cd1d7-94ea-4d2d-a91a-ba5a14e6be6e"
      },
      "execution_count": null,
      "outputs": [
        {
          "output_type": "stream",
          "name": "stdout",
          "text": [
            "+-------+-------+---------------------+---------------+---------------------------------------------------------------------------------------------------------------------------------------------------------------------------------------------------------------------------------------------------------------------------------------------------------------+-------------+------------------+------------+------+---------+-------------------------------------------------------------+--------------------------------------------------------------------------------------------------------------------------------------------------------+\n",
            "|show_id|type   |title                |director       |cast                                                                                                                                                                                                                                                                                                           |country      |date_added        |release_year|rating|duration |listed_in                                                    |description                                                                                                                                             |\n",
            "+-------+-------+---------------------+---------------+---------------------------------------------------------------------------------------------------------------------------------------------------------------------------------------------------------------------------------------------------------------------------------------------------------------+-------------+------------------+------------+------+---------+-------------------------------------------------------------+--------------------------------------------------------------------------------------------------------------------------------------------------------+\n",
            "|s1     |Movie  |Dick Johnson Is Dead |Kirsten Johnson|null                                                                                                                                                                                                                                                                                                           |United States|September 25, 2021|2020        |PG-13 |90 min   |Documentaries                                                |As her father nears the end of his life, filmmaker Kirsten Johnson stages his death in inventive and comical ways to help them both face the inevitable.|\n",
            "|s2     |TV Show|Blood & Water        |null           |Ama Qamata, Khosi Ngema, Gail Mabalane, Thabang Molaba, Dillon Windvogel, Natasha Thahane, Arno Greeff, Xolile Tshabalala, Getmore Sithole, Cindy Mahlangu, Ryle De Morny, Greteli Fincham, Sello Maake Ka-Ncube, Odwa Gwanya, Mekaila Mathys, Sandi Schultz, Duane Williams, Shamilla Miller, Patrick Mofokeng|South Africa |September 24, 2021|2021        |TV-MA |2 Seasons|International TV Shows, TV Dramas, TV Mysteries              |After crossing paths at a party, a Cape Town teen sets out to prove whether a private-school swimming star is her sister who was abducted at birth.     |\n",
            "|s3     |TV Show|Ganglands            |Julien Leclercq|Sami Bouajila, Tracy Gotoas, Samuel Jouy, Nabiha Akkari, Sofia Lesaffre, Salim Kechiouche, Noureddine Farihi, Geert Van Rampelberg, Bakary Diombera                                                                                                                                                            |null         |September 24, 2021|2021        |TV-MA |1 Season |Crime TV Shows, International TV Shows, TV Action & Adventure|To protect his family from a powerful drug lord, skilled thief Mehdi and his expert team of robbers are pulled into a violent and deadly turf war.      |\n",
            "|s4     |TV Show|Jailbirds New Orleans|null           |null                                                                                                                                                                                                                                                                                                           |null         |September 24, 2021|2021        |TV-MA |1 Season |Docuseries, Reality TV                                       |Feuds, flirtations and toilet talk go down among the incarcerated women at the Orleans Justice Center in New Orleans on this gritty reality series.     |\n",
            "|s5     |TV Show|Kota Factory         |null           |Mayur More, Jitendra Kumar, Ranjan Raj, Alam Khan, Ahsaas Channa, Revathi Pillai, Urvi Singh, Arun Kumar                                                                                                                                                                                                       |India        |September 24, 2021|2021        |TV-MA |2 Seasons|International TV Shows, Romantic TV Shows, TV Comedies       |In a city of coaching centers known to train India’s finest collegiate minds, an earnest but unexceptional student and his friends navigate campus life.|\n",
            "+-------+-------+---------------------+---------------+---------------------------------------------------------------------------------------------------------------------------------------------------------------------------------------------------------------------------------------------------------------------------------------------------------------+-------------+------------------+------------+------+---------+-------------------------------------------------------------+--------------------------------------------------------------------------------------------------------------------------------------------------------+\n",
            "only showing top 5 rows\n",
            "\n"
          ]
        }
      ]
    },
    {
      "cell_type": "code",
      "source": [
        "name_column = \"listed_in\"\n",
        "df_axu = df_titles\\\n",
        "  .select(name_column)\\\n",
        "  .withColumn(name_column,upper(col(name_column)))\\\n",
        "  .withColumn(name_column, regexp_replace(col(name_column),' ',''))\\\n",
        "  .withColumn(name_column, split(col(name_column),','))\\\n",
        "  .withColumn(name_column, explode(col(name_column)))\\\n",
        "  .orderBy(name_column, ascending=False)\\\n",
        "  .distinct()\n",
        "\n",
        "qt = df_axu.count()\n",
        "print(f\"Quantidade de Generos: {qt}\")\n",
        "df_axu.show(n=qt, truncate=False)"
      ],
      "metadata": {
        "colab": {
          "base_uri": "https://localhost:8080/"
        },
        "id": "X_xqXLHxIT2w",
        "outputId": "619538ed-5c52-43cf-9568-8e2b2bece1e3"
      },
      "execution_count": null,
      "outputs": [
        {
          "output_type": "stream",
          "name": "stdout",
          "text": [
            "Quantidade de Generos: 64\n",
            "+------------------------+\n",
            "|listed_in               |\n",
            "+------------------------+\n",
            "|71MIN                   |\n",
            "|STAND-UPCOMEDY&TALKSHOWS|\n",
            "|2SEASONS                |\n",
            "|CLASSICMOVIES           |\n",
            "|2020                    |\n",
            "|JANEANEGAROFALO\"        |\n",
            "|KIDS'TV                 |\n",
            "|APRIL5                  |\n",
            "|JANUARY16               |\n",
            "|2019                    |\n",
            "|TVMYSTERIES             |\n",
            "|ANIMESERIES             |\n",
            "|CLASSIC&CULTTV          |\n",
            "|MARGARETCHO             |\n",
            "|TVACTION&ADVENTURE      |\n",
            "|HORRORMOVIES            |\n",
            "|PG                      |\n",
            "|TVDRAMAS                |\n",
            "|ROMANTICMOVIES          |\n",
            "|INTERNATIONALTVSHOWS    |\n",
            "|ROMANTICTVSHOWS         |\n",
            "|TEENTVSHOWS             |\n",
            "|ACTION&ADVENTURE        |\n",
            "|CULTMOVIES              |\n",
            "|SCIENCE&NATURETV        |\n",
            "|NIGERIA                 |\n",
            "|BRITISHTVSHOWS          |\n",
            "|32MIN                   |\n",
            "|OCTOBER16               |\n",
            "|SCI-FI&FANTASY          |\n",
            "|KOREANTVSHOWS           |\n",
            "|93MIN                   |\n",
            "|TVHORROR                |\n",
            "|UNITEDSTATES            |\n",
            "|INDEPENDENTMOVIES       |\n",
            "|SPANISH-LANGUAGETVSHOWS |\n",
            "|COMEDIES                |\n",
            "|DRAMAS                  |\n",
            "|HEAVYD                  |\n",
            "|FAITH&SPIRITUALITY      |\n",
            "|THRILLERS               |\n",
            "|MARTALARRALDE           |\n",
            "|DOCUSERIES              |\n",
            "|TVSCI-FI&FANTASY        |\n",
            "|TVSHOWS                 |\n",
            "|36MIN                   |\n",
            "|TVCOMEDIES              |\n",
            "|MUSIC&MUSICALS          |\n",
            "|LGBTQMOVIES             |\n",
            "|ANIMEFEATURES           |\n",
            "|REALITYTV               |\n",
            "|TVTHRILLERS             |\n",
            "|AKINLEWIS               |\n",
            "|2015                    |\n",
            "|EDENMARRYSHOW           |\n",
            "|CHILDREN&FAMILYMOVIES   |\n",
            "|PATRICIALÓPEZARNAIZ     |\n",
            "|CRIMETVSHOWS            |\n",
            "|INTERNATIONALMOVIES     |\n",
            "|SPORTSMOVIES            |\n",
            "|MOVIES                  |\n",
            "|DOCUMENTARIES           |\n",
            "|STAND-UPCOMEDY          |\n",
            "|UNITEDKINGDOM           |\n",
            "+------------------------+\n",
            "\n"
          ]
        }
      ]
    }
  ]
}